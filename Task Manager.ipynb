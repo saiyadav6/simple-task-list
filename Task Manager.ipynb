{
 "cells": [
  {
   "cell_type": "code",
   "execution_count": 1,
   "id": "db66fdb6",
   "metadata": {},
   "outputs": [],
   "source": [
    "task = []\n",
    "def add_task():\n",
    "    user_task = input(\"Enter Your Task\")\n",
    "    task.append(user_task)"
   ]
  },
  {
   "cell_type": "code",
   "execution_count": 2,
   "id": "5df9e61d",
   "metadata": {},
   "outputs": [],
   "source": [
    "def view_task():\n",
    "    for i, j in enumerate(task):\n",
    "        print(i + 1, \" \", j)"
   ]
  },
  {
   "cell_type": "code",
   "execution_count": 3,
   "id": "28e8d978",
   "metadata": {},
   "outputs": [],
   "source": [
    "def complete_task():\n",
    "    task_num = int(input(\"Enter task that you have completed\"))\n",
    "    task.pop(task_num - 1)\n",
    "    view_task()"
   ]
  },
  {
   "cell_type": "code",
   "execution_count": 4,
   "id": "6567a07d",
   "metadata": {},
   "outputs": [],
   "source": [
    "def show_menu():\n",
    "    print(\"Welcome to task management system\")\n",
    "    print(\"1. Add new task\")\n",
    "    print(\"2. view task\")\n",
    "    print(\"3. complete task\")\n",
    "    print(\"4. Exit\")"
   ]
  },
  {
   "cell_type": "code",
   "execution_count": 5,
   "id": "de9e58fd",
   "metadata": {},
   "outputs": [
    {
     "name": "stdout",
     "output_type": "stream",
     "text": [
      "Welcome to task management system\n",
      "1. Add new task\n",
      "2. view task\n",
      "3. complete task\n",
      "4. Exit\n",
      "Enter Your Choice 1\n",
      "Enter Your Tasktea\n",
      "Enter Your Choice 1\n",
      "Enter Your Taskcoffee\n",
      "Enter Your Choice 2\n",
      "1   tea\n",
      "2   coffee\n",
      "Enter Your Choice 3\n",
      "Enter task that you have completed1\n",
      "1   coffee\n",
      "Enter Your Choice 2\n",
      "1   coffee\n",
      "Enter Your Choice 4\n"
     ]
    }
   ],
   "source": [
    "def todo_app():\n",
    "    show_menu()\n",
    "    while True:\n",
    "        choice = int(input(\"Enter Your Choice \"))\n",
    "\n",
    "        if choice == 1:\n",
    "            add_task()\n",
    "        elif choice == 2:\n",
    "            view_task()\n",
    "        elif choice == 3:\n",
    "            complete_task()\n",
    "        elif choice == 4:\n",
    "            break\n",
    "        else:\n",
    "            print(\"Invalid Input\")\n",
    "\n",
    "\n",
    "todo_app()\n"
   ]
  },
  {
   "cell_type": "code",
   "execution_count": 7,
   "id": "87c68a0b",
   "metadata": {},
   "outputs": [],
   "source": [
    "\n"
   ]
  },
  {
   "cell_type": "code",
   "execution_count": 8,
   "id": "53cb4008",
   "metadata": {},
   "outputs": [],
   "source": [
    "\n",
    "\n"
   ]
  },
  {
   "cell_type": "code",
   "execution_count": null,
   "id": "5ce47bd1",
   "metadata": {},
   "outputs": [],
   "source": []
  }
 ],
 "metadata": {
  "kernelspec": {
   "display_name": "Python 3 (ipykernel)",
   "language": "python",
   "name": "python3"
  },
  "language_info": {
   "codemirror_mode": {
    "name": "ipython",
    "version": 3
   },
   "file_extension": ".py",
   "mimetype": "text/x-python",
   "name": "python",
   "nbconvert_exporter": "python",
   "pygments_lexer": "ipython3",
   "version": "3.9.7"
  }
 },
 "nbformat": 4,
 "nbformat_minor": 5
}
